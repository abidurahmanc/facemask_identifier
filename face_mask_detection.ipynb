{
 "cells": [
  {
   "cell_type": "code",
   "execution_count": 3,
   "metadata": {},
   "outputs": [],
   "source": [
    "import tensorflow as tf\n",
    "import os\n",
    "import shutil\n",
    "import random"
   ]
  },
  {
   "cell_type": "code",
   "execution_count": 11,
   "metadata": {},
   "outputs": [],
   "source": [
    "# define source and destination paths\n",
    "dataset_path=r\"C:\\Users\\hexdy\\OneDrive\\Desktop\\Batch_AI\\Face_mask_identifier\\data\"\n",
    "train_path=r\"C:\\Users\\hexdy\\OneDrive\\Desktop\\Batch_AI\\Face_mask_identifier\\train\"\n",
    "val_path=r\"C:\\Users\\hexdy\\OneDrive\\Desktop\\Batch_AI\\Face_mask_identifier\\val\"\n",
    "\n",
    "# define categories\n",
    "categories=['with_mask','without_mask']\n",
    "\n",
    "# split ratio\n",
    "split_ratio=0.8"
   ]
  },
  {
   "cell_type": "code",
   "execution_count": 12,
   "metadata": {},
   "outputs": [
    {
     "name": "stdout",
     "output_type": "stream",
     "text": [
      "Dataset successfully split into train and validation sets!\n"
     ]
    }
   ],
   "source": [
    "for category in categories:\n",
    "    os.makedirs(os.path.join(train_path,category),exist_ok=True)\n",
    "    os.makedirs(os.path.join(val_path,category),exist_ok=True)\n",
    "    \n",
    "    # get all images in category folder\n",
    "    images=os.listdir(os.path.join(dataset_path,category))\n",
    "    random.shuffle(images)\n",
    "    \n",
    "    # split data\n",
    "    train_size=int(len(images)*split_ratio)\n",
    "    train_images=images[:train_size]\n",
    "    val_images=images[train_size:]\n",
    "    \n",
    "    # move images to train annd val folders\n",
    "    for img in train_images:\n",
    "        shutil.copy(os.path.join(dataset_path,category,img),os.path.join(train_path,category,img))\n",
    "    for img in val_images:\n",
    "        shutil.copy(os.path.join(dataset_path,category,img),os.path.join(val_path,category,img))\n",
    "print(\"Dataset successfully split into train and validation sets!\")"
   ]
  },
  {
   "cell_type": "code",
   "execution_count": null,
   "metadata": {},
   "outputs": [
    {
     "name": "stdout",
     "output_type": "stream",
     "text": [
      "Found 6042 images belonging to 2 classes.\n",
      "Found 1511 images belonging to 2 classes.\n"
     ]
    },
    {
     "name": "stderr",
     "output_type": "stream",
     "text": [
      "c:\\Users\\hexdy\\anaconda3\\Lib\\site-packages\\keras\\src\\layers\\convolutional\\base_conv.py:107: UserWarning: Do not pass an `input_shape`/`input_dim` argument to a layer. When using Sequential models, prefer using an `Input(shape)` object as the first layer in the model instead.\n",
      "  super().__init__(activity_regularizer=activity_regularizer, **kwargs)\n",
      "c:\\Users\\hexdy\\anaconda3\\Lib\\site-packages\\keras\\src\\trainers\\data_adapters\\py_dataset_adapter.py:121: UserWarning: Your `PyDataset` class should call `super().__init__(**kwargs)` in its constructor. `**kwargs` can include `workers`, `use_multiprocessing`, `max_queue_size`. Do not pass these arguments to `fit()`, as they will be ignored.\n",
      "  self._warn_if_super_not_called()\n"
     ]
    },
    {
     "name": "stdout",
     "output_type": "stream",
     "text": [
      "Epoch 1/5\n",
      "\u001b[1m128/189\u001b[0m \u001b[32m━━━━━━━━━━━━━\u001b[0m\u001b[37m━━━━━━━\u001b[0m \u001b[1m31s\u001b[0m 519ms/step - accuracy: 0.7039 - loss: 0.6611"
     ]
    },
    {
     "name": "stderr",
     "output_type": "stream",
     "text": [
      "c:\\Users\\hexdy\\anaconda3\\Lib\\site-packages\\PIL\\Image.py:1056: UserWarning: Palette images with Transparency expressed in bytes should be converted to RGBA images\n",
      "  warnings.warn(\n"
     ]
    },
    {
     "name": "stdout",
     "output_type": "stream",
     "text": [
      "\u001b[1m189/189\u001b[0m \u001b[32m━━━━━━━━━━━━━━━━━━━━\u001b[0m\u001b[37m\u001b[0m \u001b[1m109s\u001b[0m 569ms/step - accuracy: 0.7429 - loss: 0.5788 - val_accuracy: 0.8882 - val_loss: 0.2863\n",
      "Epoch 2/5\n",
      "\u001b[1m189/189\u001b[0m \u001b[32m━━━━━━━━━━━━━━━━━━━━\u001b[0m\u001b[37m\u001b[0m \u001b[1m75s\u001b[0m 394ms/step - accuracy: 0.8934 - loss: 0.2654 - val_accuracy: 0.8795 - val_loss: 0.2752\n",
      "Epoch 3/5\n",
      "\u001b[1m189/189\u001b[0m \u001b[32m━━━━━━━━━━━━━━━━━━━━\u001b[0m\u001b[37m\u001b[0m \u001b[1m75s\u001b[0m 394ms/step - accuracy: 0.9127 - loss: 0.2171 - val_accuracy: 0.9285 - val_loss: 0.1976\n",
      "Epoch 4/5\n",
      "\u001b[1m189/189\u001b[0m \u001b[32m━━━━━━━━━━━━━━━━━━━━\u001b[0m\u001b[37m\u001b[0m \u001b[1m74s\u001b[0m 390ms/step - accuracy: 0.9180 - loss: 0.2003 - val_accuracy: 0.9246 - val_loss: 0.1880\n",
      "Epoch 5/5\n",
      "\u001b[1m189/189\u001b[0m \u001b[32m━━━━━━━━━━━━━━━━━━━━\u001b[0m\u001b[37m\u001b[0m \u001b[1m75s\u001b[0m 397ms/step - accuracy: 0.9292 - loss: 0.1854 - val_accuracy: 0.9365 - val_loss: 0.1568\n"
     ]
    },
    {
     "name": "stderr",
     "output_type": "stream",
     "text": [
      "WARNING:absl:You are saving your model as an HDF5 file via `model.save()` or `keras.saving.save_model(model)`. This file format is considered legacy. We recommend using instead the native Keras format, e.g. `model.save('my_model.keras')` or `keras.saving.save_model(model, 'my_model.keras')`. \n"
     ]
    },
    {
     "name": "stdout",
     "output_type": "stream",
     "text": [
      "model training completed and saved!\n"
     ]
    }
   ],
   "source": [
    "import tensorflow as tf\n",
    "from tensorflow.keras.models import Sequential\n",
    "from tensorflow.keras.layers import Conv2D,MaxPooling2D,Flatten,Dense,Dropout\n",
    "from tensorflow.keras.preprocessing.image import ImageDataGenerator\n",
    "\n",
    "# Image data generators(Augmentation)\n",
    "train_datagen=ImageDataGenerator(rescale=1/255,rotation_range=20,horizontal_flip=True)\n",
    "val_datagen=ImageDataGenerator(rescale=1/255)\n",
    "\n",
    "# Load images\n",
    "train_generator=train_datagen.flow_from_directory(train_path,target_size=(150,150),batch_size=32,class_mode=\"binary\")\n",
    "val_generator=val_datagen.flow_from_directory(val_path,target_size=(150,150),batch_size=32,class_mode=\"binary\")\n",
    "\n",
    "# define CNN model\n",
    "model=Sequential([Conv2D(32,(3,3),activation='relu',input_shape=(150,150,3)),\n",
    "                  MaxPooling2D(2,2),\n",
    "                  Conv2D(64,(3,3),activation='relu'),\n",
    "                  MaxPooling2D(2,2),\n",
    "                  Conv2D(128,(3,3),activation='relu'),\n",
    "                  MaxPooling2D(2,2),\n",
    "                  Flatten(),\n",
    "                  Dense(512,activation='relu'),\n",
    "                  Dropout(0.5),\n",
    "                  Dense(1,activation='sigmoid') # binary classification (cats vs dogs)\n",
    "                  ])\n",
    "# compile model\n",
    "model.compile(optimizer='adam',loss='binary_crossentropy',metrics=['accuracy'])\n",
    "\n",
    "# train  model\n",
    "model.fit(train_generator,validation_data=val_generator,epochs=5)\n",
    "\n",
    "# save model\n",
    "model.save(\"facemask_identifier.h5\")\n",
    "print(\"model training completed and saved!\")"
   ]
  },
  {
   "cell_type": "code",
   "execution_count": 23,
   "metadata": {},
   "outputs": [
    {
     "name": "stderr",
     "output_type": "stream",
     "text": [
      "WARNING:absl:Compiled the loaded model, but the compiled metrics have yet to be built. `model.compile_metrics` will be empty until you train or evaluate the model.\n"
     ]
    },
    {
     "name": "stdout",
     "output_type": "stream",
     "text": [
      "\u001b[1m1/1\u001b[0m \u001b[32m━━━━━━━━━━━━━━━━━━━━\u001b[0m\u001b[37m\u001b[0m \u001b[1m0s\u001b[0m 57ms/step\n",
      "The image is with MASK\n"
     ]
    }
   ],
   "source": [
    "import numpy as np\n",
    "import tensorflow as tf\n",
    "from tensorflow.keras.preprocessing import image\n",
    "\n",
    "# Load trained model\n",
    "model = tf.keras.models.load_model(\"facemask_identifier.h5\")\n",
    "\n",
    "# Load and preprocess test image\n",
    "img_path = r\"C:\\Users\\hexdy\\OneDrive\\Desktop\\Batch_AI\\Face_mask_identifier\\sample_images_for_pred\\masked.jpg\"\n",
    "img = image.load_img(img_path, target_size=(150, 150))\n",
    "img_array = image.img_to_array(img) / 255.0\n",
    "img_array = np.expand_dims(img_array, axis=0)  # Add batch dimension\n",
    "\n",
    "# Predict\n",
    "prediction = model.predict(img_array)\n",
    "prediction\n",
    "\n",
    "if prediction > 0.5:\n",
    "    print(\"The image is without MASK\")\n",
    "else:\n",
    "    print(\"The image is with MASK\")"
   ]
  },
  {
   "cell_type": "code",
   "execution_count": 14,
   "metadata": {},
   "outputs": [
    {
     "data": {
      "text/plain": [
       "{'with_mask': 0, 'without_mask': 1}"
      ]
     },
     "execution_count": 14,
     "metadata": {},
     "output_type": "execute_result"
    }
   ],
   "source": [
    "train_generator.class_indices"
   ]
  },
  {
   "cell_type": "code",
   "execution_count": null,
   "metadata": {},
   "outputs": [],
   "source": []
  }
 ],
 "metadata": {
  "kernelspec": {
   "display_name": "base",
   "language": "python",
   "name": "python3"
  },
  "language_info": {
   "codemirror_mode": {
    "name": "ipython",
    "version": 3
   },
   "file_extension": ".py",
   "mimetype": "text/x-python",
   "name": "python",
   "nbconvert_exporter": "python",
   "pygments_lexer": "ipython3",
   "version": "3.12.7"
  }
 },
 "nbformat": 4,
 "nbformat_minor": 2
}
